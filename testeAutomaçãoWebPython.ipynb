{
 "cells": [
  {
   "cell_type": "code",
   "execution_count": 19,
   "metadata": {},
   "outputs": [],
   "source": [
    "from selenium import webdriver\n",
    "from webdriver_manager.firefox import GeckoDriverManager\n",
    "from selenium.webdriver.firefox.service import Service\n",
    "from selenium.webdriver.common.by import By\n",
    "from selenium.webdriver.support.wait import WebDriverWait\n",
    "from selenium.webdriver.support import expected_conditions as EC\n",
    "from openpyxl import Workbook"
   ]
  },
  {
   "cell_type": "code",
   "execution_count": 20,
   "metadata": {},
   "outputs": [],
   "source": [
    "servico = Service(GeckoDriverManager().install())\n",
    "navegador = webdriver.Firefox(service=servico)"
   ]
  },
  {
   "cell_type": "code",
   "execution_count": 21,
   "metadata": {},
   "outputs": [],
   "source": [
    "\n",
    "navegador.get(\"https://pages.hashtagtreinamentos.com/inscricao-minicurso-python-automacao-org?origemurl=hashtag_yt_org_minipython_8AMNaVt0z_M\")\n",
    "navegador.find_element('xpath','/html/body/div[2]/div[1]/section/div[2]/div/div[2]/form/div[1]/div/div[1]/div/input').send_keys(\"judas\")\n",
    "navegador.find_element('xpath', '/html/body/div[2]/div[1]/section/div[2]/div/div[2]/form/div[1]/div/div[2]/div/input').send_keys(\"guilhermeferreira082@gmail.com\")\n",
    "navegador.find_element('xpath', '/html/body/div[2]/div[1]/section/div[2]/div/div[2]/form/div[1]/div/div[3]/div/input').send_keys(\"61995246301\")\n",
    "\n",
    "try:\n",
    "    WebDriverWait(navegador, 10).until(\n",
    "        EC.presence_of_element_located(('xpath', '/html/body/div[2]/div[1]/section/div[2]/div/div[2]/form/button'))\n",
    "    )\n",
    "finally:\n",
    "    navegador.find_element('xpath', '/html/body/div[2]/div[1]/section/div[2]/div/div[2]/form/button').click()\n"
   ]
  },
  {
   "cell_type": "code",
   "execution_count": 27,
   "metadata": {},
   "outputs": [],
   "source": [
    "classEmail = navegador.find_elements(By.CLASS_NAME, 'medium-b')"
   ]
  },
  {
   "cell_type": "code",
   "execution_count": 32,
   "metadata": {},
   "outputs": [
    {
     "name": "stdout",
     "output_type": "stream",
     "text": [
      "Valor:  1\n",
      "Valor:  e-mail\n",
      "Valor:  2\n",
      "Valor:  Abra\n",
      "Valor:  3\n",
      "Valor:  link de confirmação\n",
      "Valor:  4\n",
      "Valor:  minicurso de Python!  \n",
      "Valor:  \n",
      "Valor:  \n"
     ]
    }
   ],
   "source": [
    "for i in range(10):\n",
    "    print(f'Valor:  {classEmail[i].text}')"
   ]
  },
  {
   "cell_type": "code",
   "execution_count": null,
   "metadata": {},
   "outputs": [],
   "source": []
  }
 ],
 "metadata": {
  "kernelspec": {
   "display_name": "Python 3",
   "language": "python",
   "name": "python3"
  },
  "language_info": {
   "codemirror_mode": {
    "name": "ipython",
    "version": 3
   },
   "file_extension": ".py",
   "mimetype": "text/x-python",
   "name": "python",
   "nbconvert_exporter": "python",
   "pygments_lexer": "ipython3",
   "version": "3.12.0"
  }
 },
 "nbformat": 4,
 "nbformat_minor": 2
}
